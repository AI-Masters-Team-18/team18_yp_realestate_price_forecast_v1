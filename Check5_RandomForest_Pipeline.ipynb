{
  "nbformat": 4,
  "nbformat_minor": 0,
  "metadata": {
    "colab": {
      "provenance": []
    },
    "kernelspec": {
      "name": "python3",
      "display_name": "Python 3"
    },
    "language_info": {
      "name": "python"
    }
  },
  "cells": [
    {
      "cell_type": "code",
      "source": [
        "import pandas as pd\n",
        "import numpy as np\n",
        "from sklearn.model_selection import train_test_split\n",
        "from sklearn.ensemble import RandomForestRegressor\n",
        "from sklearn.metrics import r2_score, mean_squared_error\n",
        "from sklearn.compose import ColumnTransformer\n",
        "from sklearn.pipeline import Pipeline\n",
        "from sklearn.preprocessing import OneHotEncoder\n",
        "from sklearn.base import BaseEstimator, TransformerMixin"
      ],
      "metadata": {
        "id": "cY7jEGmGzxDi"
      },
      "execution_count": 4,
      "outputs": []
    },
    {
      "cell_type": "markdown",
      "source": [
        "# Трансформер для преобразования категориальных признаков"
      ],
      "metadata": {
        "id": "ghO__NHtz7uX"
      }
    },
    {
      "cell_type": "code",
      "source": [
        "class TypeConverter(BaseEstimator, TransformerMixin):\n",
        "    def __init__(self, columns):\n",
        "        self.columns = columns\n",
        "\n",
        "    def fit(self, X, y=None):\n",
        "        return self\n",
        "\n",
        "    def transform(self, X):\n",
        "        X = X.copy()\n",
        "        for col in self.columns:\n",
        "            X[col] = X[col].astype(str)\n",
        "        return X"
      ],
      "metadata": {
        "id": "ZhHOakmKzXuK"
      },
      "execution_count": 5,
      "outputs": []
    },
    {
      "cell_type": "code",
      "source": [
        "df = pd.read_excel(\"df_filtered.xlsx\")\n",
        "\n",
        "current_year = pd.Timestamp.now().year\n",
        "df_cleaned = df[\n",
        "    (df['Общая площадь'] <= 200) &\n",
        "    (df['Этаж'] <= 50) &\n",
        "    (df['Год постройки'] >= (current_year - 100)) &\n",
        "    (df['Высота потолков'] <= 5) &\n",
        "    (df['Цена'] <= 100000000) &\n",
        "    (df['Площадь кухни'] <= 50)\n",
        "]\n",
        "\n",
        "X = df_cleaned.drop(columns=['Цена'])\n",
        "y = df_cleaned['Цена']\n",
        "X_train, X_test, y_train, y_test = train_test_split(X, y, test_size=0.2, random_state=42)\n",
        "\n",
        "categorical_features = X_train.select_dtypes(include=['object', 'category']).columns.tolist()"
      ],
      "metadata": {
        "id": "QkzvsSZy0GJ5"
      },
      "execution_count": 6,
      "outputs": []
    },
    {
      "cell_type": "markdown",
      "source": [
        "# Пайплайн"
      ],
      "metadata": {
        "id": "BYhYtdR20bbB"
      }
    },
    {
      "cell_type": "code",
      "source": [
        "preprocessor = ColumnTransformer(\n",
        "    transformers=[\n",
        "        ('cat', OneHotEncoder(\n",
        "            drop='first',\n",
        "            handle_unknown='ignore',\n",
        "            sparse_output=False\n",
        "        ), categorical_features)\n",
        "    ],\n",
        "    remainder='passthrough'\n",
        ")\n",
        "\n",
        "pipeline = Pipeline([\n",
        "    ('type_converter', TypeConverter(columns=categorical_features)),\n",
        "    ('preprocessor', preprocessor),\n",
        "    ('model', RandomForestRegressor(\n",
        "        random_state=42,\n",
        "        n_estimators=100,\n",
        "        n_jobs=-1\n",
        "    ))\n",
        "])"
      ],
      "metadata": {
        "id": "zCR-vP_60X3k"
      },
      "execution_count": 7,
      "outputs": []
    },
    {
      "cell_type": "code",
      "source": [
        "pipeline.fit(X_train, y_train)\n",
        "y_pred = pipeline.predict(X_test)\n",
        "\n",
        "r2 = r2_score(y_test, y_pred)\n",
        "rmse = np.sqrt(mean_squared_error(y_test, y_pred))\n",
        "mape = np.mean(np.abs((y_test - y_pred) / y_test)) * 100\n",
        "\n",
        "print(f\"R^2: {r2:.4f}\")\n",
        "print(f\"RMSE: {rmse:.4f}\")\n",
        "print(f\"MAPE: {mape:.2f}%\")"
      ],
      "metadata": {
        "colab": {
          "base_uri": "https://localhost:8080/"
        },
        "id": "8q3YMJv90p_u",
        "outputId": "d43d432a-1029-4ca4-bfda-7fc215cb2b90"
      },
      "execution_count": 8,
      "outputs": [
        {
          "output_type": "stream",
          "name": "stderr",
          "text": [
            "/usr/local/lib/python3.11/dist-packages/sklearn/preprocessing/_encoders.py:246: UserWarning: Found unknown categories in columns [4] during transform. These unknown categories will be encoded as all zeros\n",
            "  warnings.warn(\n"
          ]
        },
        {
          "output_type": "stream",
          "name": "stdout",
          "text": [
            "R^2: 0.9603\n",
            "RMSE: 2186516.0462\n",
            "MAPE: 4.75%\n"
          ]
        }
      ]
    }
  ]
}